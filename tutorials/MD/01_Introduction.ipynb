{
 "cells": [
  {
   "cell_type": "markdown",
   "metadata": {},
   "source": [
    "# Molecular Dynamics (MD) Tutorial\n",
    "\n",
    "## Objectives and Description\n",
    "\n",
    "\n",
    "This practical is designed as an introduction to the Molecular Dynamics (MD) method and aims to demonstrate what sorts of questions and problems occur when simulating proteins.\n",
    "\n",
    "It is divided into five  parts, i.e, five jupyter notebooks. \n",
    "\n",
    "* **00_**\n",
    "\n",
    "Hopefully, you have already gone through this notebook, as it essential for everything that follows. You should have already installed all the software packages that you need for the tutorial and are familiar with how to use the RCUS cluster and how to transfer your files to your laptop. If you haven't already read it, please go back and make sure everything is setup!\n",
    "\n",
    "\n",
    "* **01_Introduction**\n",
    "\n",
    "This is the notebook you are reading now and only aims to provide introductory information on the MD tutorial.\n",
    "\n",
    "* **02_Protein_Visualisation**\n",
    "\n",
    "This section aims to introduce you both with the system that you will be called to simulate and explore, the HIV-1 protease and at the same time to allow you to familiarise with the VMD software for visualization of Molecular Dynamics simulation trajectories. \n",
    "\n",
    "* **03_MD_Setup_Production_Run**\n",
    "\n",
    "This notebook will guide you to setup a system that will contain the protein in a box of water, energy minimise it and perform a Molecular Dynamics simulation, using the GROMACS MD package. You will also utilise some of the built-in GROMACS tools to perform some initial analysis.\n",
    "\n",
    "* **04_Trajectory_Analysis** \n",
    "\n",
    "The final notebook will hopefully show you some types of information that we can gain from a MD trajectory, show you how to use MDAnalysis and Pyplot to obtain and plot the data and will encourage you to think about how to interpret the data that you have obtained. \n",
    "\n",
    "\n",
    "\n",
    "\n"
   ]
  }
 ],
 "metadata": {
  "kernelspec": {
   "display_name": "Python 3",
   "language": "python",
   "name": "python3"
  },
  "language_info": {
   "codemirror_mode": {
    "name": "ipython",
    "version": 3
   },
   "file_extension": ".py",
   "mimetype": "text/x-python",
   "name": "python",
   "nbconvert_exporter": "python",
   "pygments_lexer": "ipython3",
   "version": "3.8.6"
  }
 },
 "nbformat": 4,
 "nbformat_minor": 1
}
