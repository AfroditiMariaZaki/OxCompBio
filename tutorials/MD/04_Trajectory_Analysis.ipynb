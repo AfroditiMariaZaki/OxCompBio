{
 "cells": [
  {
   "cell_type": "markdown",
   "metadata": {},
   "source": [
    "### Visualise the simulation\n",
    "\n",
    "The simplest and easiest type of analysis you should always do is to look at it with your eyes! Your eyes will tell if you something strange is happening immediately. A numerical analysis may not. Let us look at the simulations on VMD.\n",
    "\n",
    "Open your vmd, by typing on your terminal:\n",
    "\n",
    "`% vmd`\n",
    "\n",
    "When it has finished placing all the windows on the screen. Click on \"File\" in the VMD main menu window and select \"new molecule\". The Molecule File Browser window should appear. Click on \"browse\" then select setup and finally select em.gro (i.e. the file you made that has protein system energy minimized). Click \"OK\" and then click \"Load\". It should load up the starting coordinates into the main window. Then click browse in Molecule File Browser window. Select run and then md.xtc. Select \"OK\" and then hit \"load\". The trajectory should start loading into the main VMD window. Although things will be moving, you can see that its quite difficult to visualize the individual components. That is one of the problems with simulating such large a complicated\n",
    "systems. VMD makes it quite easy to look at individual components of a system. For example, let us consider the protein only. On the main menu, left click on Graphics and select \"Representations\". A new menu will appear (Graphical Representations). In the box entitled \"Selected Atoms\" type protein and hit enter. Only those atoms that form part of the protein are now selected. Various other selections and drawing methods will help to visualize different aspects of the simulation. More help on the selections is available here.\n",
    "Now that we are sure the simulation is not doing anything ridiculous, we can start to ask questions about the simulation. The first thing to establish is whether the simulation has equilibrated to some state. So what are some measures of the system\n",
    "being equilibrated? And what can we use to test the reliability of the simulation?\n"
   ]
  },
  {
   "cell_type": "markdown",
   "metadata": {},
   "source": [
    "### Temperature fluctuation\n",
    "\n",
    "The system temperature as a function of time was calculated in the previous section, with the built-in GROMACS tool `gmx energy`, but we still have not looked at it. It is now time to plot the temperature *vs* time and assess the results.\n",
    "\n",
    "**Questions**\n",
    "* Does the temperature fluctuate around an equilibrium  value?\\\n",
    "* Does this value correspond to the temperature that we predefined in the `md.mdp` input file?"
   ]
  },
  {
   "cell_type": "code",
   "execution_count": null,
   "metadata": {},
   "outputs": [],
   "source": [
    "# We declare matplotlib inline to make sure it plots properly\n",
    "%matplotlib inline\n",
    "# We need pyplot from matplotlib to plot the dihedrals\n",
    "from matplotlib import pyplot\n",
    "import numpy as np\n",
    "\n",
    "# Read the file that contains the system temperature for each frame\n",
    "time=np.loadtxt(\"run/1hsg_temperature.xvg\", comments=['#','@'])[:, 0]\n",
    "temperature=np.loadtxt(\"run/1hsg_temperature.xvg\", comments=['#','@'])[:, 1] \n",
    "\n",
    "# Calculate and print the mean temperature\n",
    "mean_temperature=round(np.mean(temperature), 2)\n",
    "print(f\"The mean temperature is {mean_temperature} K\")\n",
    "\n",
    "# Plot the temperature\n",
    "pyplot.plot(time, temperature, color='darkred')\n",
    "pyplot.title(\"Temperature over time\")\n",
    "pyplot.xlabel(\"Time [ps]\")\n",
    "pyplot.ylabel(\"Temperature [K]\")\n",
    "pyplot.show()"
   ]
  },
  {
   "cell_type": "markdown",
   "metadata": {},
   "source": [
    "### Energy of the system\n",
    "\n",
    "Another set of properties that is quite useful to examine is the various energetic contributions to the energy. The total\n",
    "energy should be constant. but the various contributions can change and this can sometimes indicate something\n",
    "interesting or strange happening in your simulation. Let us look at some energetic properties of the simulation."
   ]
  },
  {
   "cell_type": "code",
   "execution_count": null,
   "metadata": {},
   "outputs": [],
   "source": [
    "# Read the file that contains the various energetic components for each frame\n",
    "time=np.loadtxt(\"run/1hsg_energies.xvg\", comments=['#','@'])[:, 0]\n",
    "lennard_jones=np.loadtxt(\"run/1hsg_energies.xvg\", comments=['#','@'])[:, 1]\n",
    "coulomb=np.loadtxt(\"run/1hsg_energies.xvg\", comments=['#','@'])[:, 2]\n",
    "potential=np.loadtxt(\"run/1hsg_energies.xvg\", comments=['#','@'])[:, 3]\n",
    "\n",
    "# Plot the Lennard-Jones energy\n",
    "pyplot.plot(time, lennard_jones, color='blue')\n",
    "pyplot.title(\"Lennard Jones energy over time\")\n",
    "pyplot.xlabel(\"Time [ps]\")\n",
    "pyplot.ylabel(\"LJ energy [kJ/mol]\")\n",
    "pyplot.show()\n",
    "\n",
    "# Plot the electrostatic energy\n",
    "pyplot.plot(time, coulomb, color='purple')\n",
    "pyplot.title(\"Electrostatic energy over time\")\n",
    "pyplot.xlabel(\"Time [ps]\")\n",
    "pyplot.ylabel(\"Coulomb energy [kJ/mol]\")\n",
    "pyplot.show()\n",
    "\n",
    "# Plot the potential energy\n",
    "pyplot.plot(time, potential, color='green')\n",
    "pyplot.title(\"Potential energy over time\")\n",
    "pyplot.xlabel(\"Time [ps]\")\n",
    "pyplot.ylabel(\"Potential energy [kJ/mol]\")\n",
    "pyplot.show()"
   ]
  },
  {
   "cell_type": "markdown",
   "metadata": {},
   "source": [
    "**Questions**\n",
    "* Is the total energy stable in this simulation? \n",
    "* What is the dominant contribution to the potential energy?"
   ]
  },
  {
   "cell_type": "markdown",
   "metadata": {},
   "source": [
    "### Analysis of Protein\n",
    "\n",
    "**Root mean square deviation (RMSD) of 1HSG**\n",
    "\n",
    "Now that we are happy that the system is OK, let us now consider the root mean square deviation (RMSD). Remember that you have done this before, during the Python tutorial, but here is a reminder! \n",
    "\n",
    "The RMSD gives us an idea of how 'stable' our protein is when compared to our starting, static, structure. The lower the RMSD is the, more stable we can say our protein is. \n",
    "\n",
    "The RMSD as a function of time, $\\rho (t)$, can be defined by the following equation:\n",
    "\n",
    "\\begin{equation}\n",
    "\\\\\n",
    "\\rho (t) = \\sqrt{\\frac{1}{N}\\sum^N_{i=1}w_i\\big(\\mathbf{x}_i(t) - \\mathbf{x}^{\\text{ref}}_i\\big)^2}\n",
    "\\end{equation}\n",
    "\n",
    "Luckily MDAnalysis has its own built-in function to calculate this and we can import it..\n",
    "\n"
   ]
  },
  {
   "cell_type": "code",
   "execution_count": null,
   "metadata": {},
   "outputs": [],
   "source": [
    "# Import built-in MDAnalysis tools for alignment and RMSD.\n",
    "import MDAnalysis as mda\n",
    "from MDAnalysis.analysis import align\n",
    "from MDAnalysis.analysis.rms import RMSD as rmsd\n",
    "\n",
    "# Define the simulation universe and the reference structure (protein structure at first frame)\n",
    "protein = mda.Universe('./run/md.gro', './run/md.xtc')\n",
    "protein_ref = mda.Universe('./run/em.gro', './run/md.xtc')\n",
    "protein_ref.trajectory[0]\n",
    "\n",
    "# Call the MDAnalysis align function to align the MD simulation universe to the reference (first frame) universe\n",
    "align_strucs = align.AlignTraj(protein, protein_ref, select=\"backbone\", weights=\"mass\", in_memory=True, verbose=True)\n",
    "\n",
    "R = align_strucs.run()\n",
    "rmsd_data = R.rmsd\n",
    "\n",
    "# Plot the RMSD\n",
    "pyplot.plot(rmsd_data)\n",
    "pyplot.title(\"RMSD over time\")\n",
    "pyplot.xlabel(\"Frame number\")\n",
    "pyplot.ylabel(\"RMSD (Angstrom)\")\n",
    "pyplot.show()"
   ]
  },
  {
   "cell_type": "markdown",
   "metadata": {},
   "source": [
    "**Questions**\n",
    "* What does this tell you about the stability of the protein? Is it in a state of equilibrium and if so why and at what time?\n",
    "* Can you think of a situation where this approach might not be a very good indication of stability?"
   ]
  },
  {
   "cell_type": "markdown",
   "metadata": {},
   "source": [
    "**Root mean square fluctuation (RMSF) of 1HSG**\n",
    "\n",
    "A similar property that is particularly useful is the root mean square fluctuation (RMSF), which shows how each residue flucuates over its average position.\n",
    "\n",
    "The RMSF for an atom, $\\rho_i$, is given by:\n",
    "\n",
    "\\begin{equation}\n",
    "\\rho_i = \\sqrt{\\sum^N_{i=1} \\big\\langle(\\mathbf{x}_i - \\langle \\mathbf{x}_i \\rangle )^2 \\big\\rangle }\n",
    "\\end{equation}"
   ]
  },
  {
   "cell_type": "code",
   "execution_count": null,
   "metadata": {},
   "outputs": [],
   "source": [
    "from MDAnalysis.analysis.rms import RMSF as rmsf\n",
    "\n",
    "# Define again the simulation universe, using however the renumbered .gro file that you had generated earlier\n",
    "protein = mda.Universe('./run/em_renumbered.gro', './run/md.xtc')\n",
    "\n",
    "# Reset the trajectory to the first frame\n",
    "protein.trajectory[0]\n",
    "\n",
    "# We will need to select the alpha Carbons only\n",
    "calphas = protein.select_atoms(\"name CA\")\n",
    "rmsf_calc = rmsf(calphas, verbose=True).run()\n",
    "\n",
    "#Plot the RMSF\n",
    "pyplot.plot(calphas.resids, rmsf_calc.rmsf, color='darkorange' )\n",
    "pyplot.title(\"Per-Residue Alpha Carbon RMSF\")\n",
    "pyplot.xlabel(\"Residue Number\")\n",
    "pyplot.ylabel(\"RMSF (Angstrom)\")\n",
    "pyplot.show()"
   ]
  },
  {
   "cell_type": "markdown",
   "metadata": {},
   "source": [
    "**Questions**\n",
    "\n",
    "* Can you identify structural regions alone from this plot and does that fit in with the structure?\n",
    "* Residues 43-58 form part of the flexible flap that covers the binding site. How does this region behave in the simulation?\n",
    "\n",
    "This concludes the analysis section, but the possibilities are endless regarding the information that you can collect from this protein simulation. You can enrich this jupyter notebook by performing your own analysis."
   ]
  },
  {
   "cell_type": "markdown",
   "metadata": {},
   "source": [
    "### Further Reading\n",
    "\n",
    "The texts recommended here are the same as those mentioned in the lecture:\n",
    "* \"Molecular Modelling. Principles and Applications\". Andrew Leach. Publisher: Prentice Hall. ISBN: 0582382106. This book has rapidly become the defacto introductory text for all aspects of simulation.\n",
    "* \"Computer simulation of liquids\". Allen, Michael P., and Dominic J. Tildesley. Oxford university press, 2017.\n",
    "* \"Molecular Dynamics Simulation: Elementary Methods\". J.M. Haile. Publisher: Wiley. ISBN: 047118439X. This text provides a more focus but slightly more old-fashioned view of simulation. It has some nice simple examples of how to code (in fortran) some of the algorithms though.\n"
   ]
  }
 ],
 "metadata": {
  "kernelspec": {
   "display_name": "Python 3",
   "language": "python",
   "name": "python3"
  },
  "language_info": {
   "codemirror_mode": {
    "name": "ipython",
    "version": 3
   },
   "file_extension": ".py",
   "mimetype": "text/x-python",
   "name": "python",
   "nbconvert_exporter": "python",
   "pygments_lexer": "ipython3",
   "version": "3.8.6"
  }
 },
 "nbformat": 4,
 "nbformat_minor": 1
}
