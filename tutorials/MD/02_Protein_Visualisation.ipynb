{
 "cells": [
  {
   "cell_type": "markdown",
   "metadata": {},
   "source": [
    "## Protein Visualisation\n",
    "\n",
    "In this section, we will obtain our protein coordinates and use the VMD software -that you have already installed on your laptop- to visualise it.\n",
    "\n",
    "For this tutorial, we will use the HIV-1 protease structure (1HSG). It is a homodimer with two chains of 99 residues each.\n",
    "\n",
    "Start your web-browser and go to the protein data bank (https://www.rcsb.org/). Enter the pdb code 1HSG in the site search box at the top and hit the site search button. The protein should come up. Select download from the top right hand menu and save the .pdb file to the setup directory.\n",
    "\n",
    "Move to the setup directory to work from there.\n",
    "\n",
    "`% cd setup`\n",
    "\n",
    "If you are not familiar with VMD, now is a good time to fire it up and get used to performing some routine manipulations.\\\n",
    "\n",
    "(the following file name might be uppercase depending on how you downloaded it).\n",
    "\n",
    "`% vmd 1hsg.pdb`\n",
    "\n",
    "You should experiment with the menu system and try various representations of the protein such as trace, cartoon and ribbons for example.\n",
    "\n",
    "* **Question**\\\n",
    "Can you find the indinavir drug? Give the protein the trace representation and then make the polar residues in vdw format as an additional representation. Repeat with the hydrophobic residues. What do you notice?\n",
    "\n",
    "Take your time to explore the features of VMD and to observe the protein. Once you are happy, you can exit VMD. either by clicking on File --> Quit or by typing `quit` in the terminal box."
   ]
  }
 ],
 "metadata": {
  "kernelspec": {
   "display_name": "Python 3",
   "language": "python",
   "name": "python3"
  },
  "language_info": {
   "codemirror_mode": {
    "name": "ipython",
    "version": 3
   },
   "file_extension": ".py",
   "mimetype": "text/x-python",
   "name": "python",
   "nbconvert_exporter": "python",
   "pygments_lexer": "ipython3",
   "version": "3.7.4"
  }
 },
 "nbformat": 4,
 "nbformat_minor": 1
}
