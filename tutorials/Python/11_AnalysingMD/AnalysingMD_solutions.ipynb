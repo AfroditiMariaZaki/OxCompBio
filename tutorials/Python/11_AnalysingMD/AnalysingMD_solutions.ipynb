{
 "cells": [
  {
   "cell_type": "markdown",
   "metadata": {},
   "source": [
    "# 11. Analysing MD data"
   ]
  },
  {
   "cell_type": "markdown",
   "metadata": {},
   "source": [
    "As previously discussed, there are many things for which python can be used. One such example is the analysis of Molecular Dynamics (MD) simulations.\n",
    "\n",
    "There exist several MD analysis libraries, including (but not limited to):\n",
    "- [MDAnalysis](https://www.mdanalysis.org/)\n",
    "- [MDTraj](http://mdtraj.org/1.9.3/)\n",
    "- [PyTraj](https://amber-md.github.io/pytraj/latest/index.html)\n",
    "\n",
    "In this section, we will look at how we can use the MDAnalysis library to process simulation structures and trajectories. We will also look at how we can interface with the [NGLView](https://amber-md.github.io/pytraj/latest/index.html) to visualise our simulations.\n",
    "\n",
    "This tutorial will aim to put together all you have learned so far into one final exercise."
   ]
  },
  {
   "cell_type": "markdown",
   "metadata": {},
   "source": [
    "## 11.1 The MDAnalysis Universe module"
   ]
  },
  {
   "cell_type": "markdown",
   "metadata": {},
   "source": [
    "To work with structures and trajectories in MDAnalysis, you must first create an MDAnalysis `Universe`.\n",
    "\n",
    "This is an object that contains all the necessary information about your system, including atomic coordinates, atom types, box vectors (if available), etc...\n",
    "\n",
    "A `Universe` is a 'class' object, which stores all the information above your system, including;\n",
    "- Atomic coordinates (i.e. positions).\n",
    "- Atom names.\n",
    "- Atom types.\n",
    "- Bond information (if available).\n",
    "\n",
    ".. and so on. Having this information could be very useful if you are trying to measure distances or dihedrals. \n",
    "\n",
    "When we load a trajectory (as we will do later in the section), the `Universe` also stores information like the current frame number, etc. \n",
    "\n",
    "First we import the MDAnalysis `Universe` module, we will also import `numpy` for later use:"
   ]
  },
  {
   "cell_type": "code",
   "execution_count": 22,
   "metadata": {},
   "outputs": [],
   "source": [
    "from MDAnalysis import Universe\n",
    "import numpy"
   ]
  },
  {
   "cell_type": "markdown",
   "metadata": {},
   "source": [
    "You then load the structure file into a `Universe` instance named `alanine` with:"
   ]
  },
  {
   "cell_type": "code",
   "execution_count": 23,
   "metadata": {},
   "outputs": [
    {
     "name": "stderr",
     "output_type": "stream",
     "text": [
      "/home/mjkikaz2/anaconda3/envs/OxCompBio/lib/python3.8/site-packages/MDAnalysis/topology/PDBParser.py:330: UserWarning: Element information is absent or missing for a few atoms. Elements attributes will not be populated.\n",
      "  warnings.warn(\"Element information is absent or missing for a few \"\n"
     ]
    }
   ],
   "source": [
    "alanine = Universe('datafiles/ALA.pdb')"
   ]
  },
  {
   "cell_type": "markdown",
   "metadata": {},
   "source": [
    "**Note**: We could have also used `import MDAnalysis`, in which case we would have to use `MDAnalysis.Universe` in place of `Universe`. As previously discussed, the `from ... import ...` syntax allows us to import only a sub-module from a library, rather than the full thing, which can be convenient in various circumstances."
   ]
  },
  {
   "cell_type": "markdown",
   "metadata": {},
   "source": [
    "You can check the different properties of your universe using MDAnalysis. The general syntax for this is `universename.attributename`; some properties (attributes) are themselves classes (e.g. `alanine.atoms` groups all the information about our atoms) and will have their own attributes. For example, if you want to check the names of the atoms of your structure, you can type:"
   ]
  },
  {
   "cell_type": "code",
   "execution_count": 24,
   "metadata": {},
   "outputs": [
    {
     "data": {
      "text/plain": [
       "array(['CL', 'HL1', 'HL2', 'HL3', 'CLP', 'OL', 'NL', 'HL', 'CA', 'HA',\n",
       "       'CB', 'HB1', 'HB2', 'HB3', 'CRP', 'OR', 'NR', 'HR', 'CR', 'HR1',\n",
       "       'HR2', 'HR3'], dtype=object)"
      ]
     },
     "execution_count": 24,
     "metadata": {},
     "output_type": "execute_result"
    }
   ],
   "source": [
    "alanine.atoms.names"
   ]
  },
  {
   "cell_type": "markdown",
   "metadata": {
    "collapsed": true
   },
   "source": [
    "### How would you find the values of the Phi and Psi dihedral angles of alanine dipeptide, in degrees or radians?"
   ]
  },
  {
   "cell_type": "markdown",
   "metadata": {},
   "source": [
    "Hint: the Phi dihedral is calculated from atoms CLP, NL, CA, and CRP, and the Psi dihedral is calculated using atoms NR, CRP, CA, and NL.\n",
    "\n",
    "For this we can make use of the built-in functions associated with the Universe class (or 'methods'). We can use `select_atoms(selection)` to isolate a group of atoms that match `selection`; the syntax of the selections strings is generally the same as for VMD (which you may have used in day 1 of this workshop). \n",
    "\n",
    "`alanine.select_atoms(selection)` will give us an 'atom group' class instance. We can then use this instance's method `dihedral` to turn four atoms into a 'dihedral' instance, and finally using `value()` on this instance will return the (current) value of that dihedral angle."
   ]
  },
  {
   "cell_type": "code",
   "execution_count": 25,
   "metadata": {},
   "outputs": [
    {
     "name": "stdout",
     "output_type": "stream",
     "text": [
      "<class 'MDAnalysis.core.universe.Universe'>\n",
      "<class 'MDAnalysis.core.groups.AtomGroup'>\n",
      "<class 'MDAnalysis.core.topologyobjects.Dihedral'>\n",
      "The Phi dihedral is 91.26 in degrees and 1.59 in radians\n",
      "The Phi dihedral is -63.54 in degrees and -1.11 in radians\n"
     ]
    }
   ],
   "source": [
    "print(type(alanine))\n",
    "print(type(alanine.select_atoms('name CLP NL CA CRP')))\n",
    "print(type(alanine.select_atoms('name CLP NL CA CRP').dihedral))\n",
    "\n",
    "phi = alanine.select_atoms('name CLP NL CA CRP').dihedral.value()\n",
    "psi = alanine.select_atoms('name NR CRP CA NL').dihedral.value()\n",
    "print('The Phi dihedral is {:.2f} in degrees and {:.2f} in radians'.format(phi, numpy.deg2rad(phi)))\n",
    "print('The Phi dihedral is {:.2f} in degrees and {:.2f} in radians'.format(psi, numpy.deg2rad(psi)))"
   ]
  },
  {
   "cell_type": "markdown",
   "metadata": {
    "collapsed": true
   },
   "source": [
    "### How would you plot the change in Phi and Psi over a trajectory?"
   ]
  },
  {
   "cell_type": "markdown",
   "metadata": {},
   "source": [
    "In order to do this, let's break the process down into small steps.\n",
    "\n",
    "You will first need to load the trajectory. The format to do this is:\n",
    "\n",
    "universe_name = Universe(PDBfile, TRJfile)\n",
    "\n",
    "In this case we have provided you a trajectory in the `datafiles` folder, the PDB file is called 'ALA.pdb' and the TRJ file is called 'ALA.xtc'. So we can call them as `./datafile/ALA.pdb` and `./datafiles/ALA.xtc`."
   ]
  },
  {
   "cell_type": "code",
   "execution_count": 26,
   "metadata": {},
   "outputs": [],
   "source": [
    "# Exercise 11.1.1: Create a Universe called 'ala_trajectory' using the PDB file 'ALA.pdb' \n",
    "# and the trajectory file 'ALA.xtc'\n",
    "ala_trajectory = Universe('./datafiles/ALA.pdb', './datafiles/ALA.xtc')"
   ]
  },
  {
   "cell_type": "markdown",
   "metadata": {},
   "source": [
    "Now that you have a Universe with your trajectory, we can access another feature of the Universe: trajectory data.\n",
    "\n",
    "First we should look at what the current trajectory frame number is.\n",
    "\n",
    "The frame number is stored under `universename.trajectory.frame`."
   ]
  },
  {
   "cell_type": "code",
   "execution_count": 27,
   "metadata": {},
   "outputs": [
    {
     "name": "stdout",
     "output_type": "stream",
     "text": [
      "0\n"
     ]
    }
   ],
   "source": [
    "# Exercise 11.1.2: Print the current frame number.\n",
    "print(ala_trajectory.trajectory.frame)"
   ]
  },
  {
   "cell_type": "markdown",
   "metadata": {},
   "source": [
    "A `Universe.trajectory` acts kind of like a list storing each frame in a simulation and various information about it, so we can loop through it the same way we did for lists above. As we go through each frame, the coordinates of each atom, stored in Universe.atoms, will be updated.\n",
    "\n",
    "We can therefore quite a quick `for` loop that prints the frame number for each frame in the trajectory."
   ]
  },
  {
   "cell_type": "code",
   "execution_count": 28,
   "metadata": {},
   "outputs": [
    {
     "name": "stdout",
     "output_type": "stream",
     "text": [
      "0\n",
      "1\n",
      "2\n",
      "3\n",
      "4\n",
      "5\n",
      "6\n",
      "7\n",
      "8\n",
      "9\n",
      "10\n",
      "11\n",
      "12\n",
      "13\n",
      "14\n",
      "15\n",
      "16\n",
      "17\n",
      "18\n",
      "19\n",
      "20\n",
      "21\n",
      "22\n",
      "23\n",
      "24\n",
      "25\n",
      "26\n",
      "27\n",
      "28\n",
      "29\n",
      "30\n",
      "31\n",
      "32\n",
      "33\n",
      "34\n",
      "35\n",
      "36\n",
      "37\n",
      "38\n",
      "39\n",
      "40\n",
      "41\n",
      "42\n",
      "43\n",
      "44\n",
      "45\n",
      "46\n",
      "47\n",
      "48\n",
      "49\n",
      "50\n",
      "51\n",
      "52\n",
      "53\n",
      "54\n",
      "55\n",
      "56\n",
      "57\n",
      "58\n",
      "59\n",
      "60\n",
      "61\n",
      "62\n",
      "63\n",
      "64\n",
      "65\n",
      "66\n",
      "67\n",
      "68\n",
      "69\n",
      "70\n",
      "71\n",
      "72\n",
      "73\n",
      "74\n",
      "75\n",
      "76\n",
      "77\n",
      "78\n",
      "79\n",
      "80\n",
      "81\n",
      "82\n",
      "83\n",
      "84\n",
      "85\n",
      "86\n",
      "87\n",
      "88\n",
      "89\n",
      "90\n",
      "91\n",
      "92\n",
      "93\n",
      "94\n",
      "95\n",
      "96\n",
      "97\n",
      "98\n",
      "99\n",
      "100\n",
      "101\n",
      "102\n",
      "103\n",
      "104\n",
      "105\n",
      "106\n",
      "107\n",
      "108\n",
      "109\n",
      "110\n",
      "111\n",
      "112\n",
      "113\n",
      "114\n",
      "115\n",
      "116\n",
      "117\n",
      "118\n",
      "119\n",
      "120\n",
      "121\n",
      "122\n",
      "123\n",
      "124\n",
      "125\n",
      "126\n",
      "127\n",
      "128\n",
      "129\n",
      "130\n",
      "131\n",
      "132\n",
      "133\n",
      "134\n",
      "135\n",
      "136\n",
      "137\n",
      "138\n",
      "139\n",
      "140\n",
      "141\n",
      "142\n",
      "143\n",
      "144\n",
      "145\n",
      "146\n",
      "147\n",
      "148\n",
      "149\n",
      "150\n",
      "151\n",
      "152\n",
      "153\n",
      "154\n",
      "155\n",
      "156\n",
      "157\n",
      "158\n",
      "159\n",
      "160\n",
      "161\n",
      "162\n",
      "163\n",
      "164\n",
      "165\n",
      "166\n",
      "167\n",
      "168\n",
      "169\n",
      "170\n",
      "171\n",
      "172\n",
      "173\n",
      "174\n",
      "175\n",
      "176\n",
      "177\n",
      "178\n",
      "179\n",
      "180\n",
      "181\n",
      "182\n",
      "183\n",
      "184\n",
      "185\n",
      "186\n",
      "187\n",
      "188\n",
      "189\n",
      "190\n",
      "191\n",
      "192\n",
      "193\n",
      "194\n",
      "195\n",
      "196\n",
      "197\n",
      "198\n",
      "199\n",
      "200\n",
      "201\n",
      "202\n",
      "203\n",
      "204\n",
      "205\n",
      "206\n",
      "207\n",
      "208\n",
      "209\n",
      "210\n",
      "211\n",
      "212\n",
      "213\n",
      "214\n",
      "215\n",
      "216\n",
      "217\n",
      "218\n",
      "219\n",
      "220\n",
      "221\n",
      "222\n",
      "223\n",
      "224\n",
      "225\n",
      "226\n",
      "227\n",
      "228\n",
      "229\n",
      "230\n",
      "231\n",
      "232\n",
      "233\n",
      "234\n",
      "235\n",
      "236\n",
      "237\n",
      "238\n",
      "239\n",
      "240\n",
      "241\n",
      "242\n",
      "243\n",
      "244\n",
      "245\n",
      "246\n",
      "247\n",
      "248\n",
      "249\n",
      "250\n"
     ]
    }
   ],
   "source": [
    "# When using MDanalysis, we usually refer to each frame as a 'timestep' or 'ts'\n",
    "# Here at each loop instance, we allocate the current frame to 'ts'\n",
    "for ts in ala_trajectory.trajectory:\n",
    "    # the comma at the end here will stop it printing on a new line every time,\n",
    "    # so this doesn't take up too much space\n",
    "    print(ts.frame)"
   ]
  },
  {
   "cell_type": "markdown",
   "metadata": {},
   "source": [
    "Now, use the same logic as Exercise 11.1 to print the phi and psi dihedral angles at each frame:"
   ]
  },
  {
   "cell_type": "code",
   "execution_count": 29,
   "metadata": {},
   "outputs": [
    {
     "name": "stdout",
     "output_type": "stream",
     "text": [
      "Current frame: 0, phi: -8.766534490475896, psi: -58.73139298562282\n",
      "Current frame: 1, phi: 66.67110533941853, psi: -82.99726052759348\n",
      "Current frame: 2, phi: 72.27769397309407, psi: -61.16106254186662\n",
      "Current frame: 3, phi: 67.63512342079548, psi: -85.29689625465237\n",
      "Current frame: 4, phi: 68.29502868469532, psi: -73.50058631068224\n",
      "Current frame: 5, phi: 81.61061919284676, psi: -72.99801258127935\n",
      "Current frame: 6, phi: 63.80126367600781, psi: -76.67121730107941\n",
      "Current frame: 7, phi: 73.7031980083587, psi: -82.96885733488641\n",
      "Current frame: 8, phi: 68.45435786829154, psi: -61.284994937809095\n",
      "Current frame: 9, phi: 78.18880045238366, psi: -74.5025292186495\n",
      "Current frame: 10, phi: 85.58733234034806, psi: -64.5265927629933\n",
      "Current frame: 11, phi: 65.4370444358654, psi: -89.6004937366657\n",
      "Current frame: 12, phi: 67.52156914556127, psi: -65.6270428503506\n",
      "Current frame: 13, phi: 68.38792357706501, psi: -68.31207207505084\n",
      "Current frame: 14, phi: 63.563969368355814, psi: -66.57640478564538\n",
      "Current frame: 15, phi: 72.30199907803011, psi: -70.10938178766456\n",
      "Current frame: 16, phi: 65.04654797624524, psi: -69.8458356692484\n",
      "Current frame: 17, phi: 75.75158668191493, psi: -69.42421782105185\n",
      "Current frame: 18, phi: 78.10377017304216, psi: -57.37803996481523\n",
      "Current frame: 19, phi: 67.6748799893949, psi: -48.22230603747358\n",
      "Current frame: 20, phi: 60.13623919813815, psi: -58.50318707226929\n",
      "Current frame: 21, phi: 70.17161077261973, psi: -67.77715147896848\n",
      "Current frame: 22, phi: 68.33496159260834, psi: -85.97653580491526\n",
      "Current frame: 23, phi: 71.6066867757476, psi: -73.90887836524179\n",
      "Current frame: 24, phi: 72.55644426649295, psi: -62.858154792817466\n",
      "Current frame: 25, phi: 60.534384745647564, psi: -64.28787324417983\n",
      "Current frame: 26, phi: 70.94920292649842, psi: -71.79782853359148\n",
      "Current frame: 27, phi: 69.26204106722008, psi: -84.23116796181222\n",
      "Current frame: 28, phi: 80.28650555643934, psi: -71.12611762571954\n",
      "Current frame: 29, phi: 58.41393537973242, psi: -55.27805047325474\n",
      "Current frame: 30, phi: 68.12641480217667, psi: -74.55538289765556\n",
      "Current frame: 31, phi: 53.916404984032, psi: -75.12300644703114\n",
      "Current frame: 32, phi: 65.13168532766872, psi: -64.38038563466885\n",
      "Current frame: 33, phi: 67.6343427303084, psi: -65.98624236968149\n",
      "Current frame: 34, phi: 69.74392996000522, psi: -81.45655138343223\n",
      "Current frame: 35, phi: 63.441087486921724, psi: -83.50057027781031\n",
      "Current frame: 36, phi: 71.5886056710107, psi: -48.89573572147753\n",
      "Current frame: 37, phi: 67.58905049238915, psi: -39.8996153144904\n",
      "Current frame: 38, phi: 71.98073974409593, psi: -70.3202870521111\n",
      "Current frame: 39, phi: 70.16171526594763, psi: -67.34306884556919\n",
      "Current frame: 40, phi: 88.97190523881696, psi: -89.55470454897072\n",
      "Current frame: 41, phi: 71.34549167557115, psi: -58.80561144839831\n",
      "Current frame: 42, phi: 69.85726511925536, psi: -74.59772851597212\n",
      "Current frame: 43, phi: 63.8734260249062, psi: -76.8196536038978\n",
      "Current frame: 44, phi: 86.17186727746505, psi: -70.98115898872219\n",
      "Current frame: 45, phi: 72.09844114266501, psi: -68.6706241678537\n",
      "Current frame: 46, phi: 54.8110602505209, psi: -73.15861703166092\n",
      "Current frame: 47, phi: 89.4962455426491, psi: -73.13395561903405\n",
      "Current frame: 48, phi: 62.61672355627698, psi: -47.502524802324324\n",
      "Current frame: 49, phi: 84.1461597221348, psi: -47.067780209013314\n",
      "Current frame: 50, phi: 48.62609362015779, psi: -75.14816058782401\n",
      "Current frame: 51, phi: 99.71727832357865, psi: -113.73368981061041\n",
      "Current frame: 52, phi: 40.91616327948442, psi: -88.93119833349112\n",
      "Current frame: 53, phi: 84.96530576151684, psi: -72.94210942729505\n",
      "Current frame: 54, phi: 80.753029527668, psi: -66.27390375839846\n",
      "Current frame: 55, phi: 72.60230359189514, psi: -57.046178514296294\n",
      "Current frame: 56, phi: 74.92255502931943, psi: -78.99562270095198\n",
      "Current frame: 57, phi: 69.69868197794314, psi: -88.98396088336932\n",
      "Current frame: 58, phi: 50.13033092910312, psi: -69.01948382502242\n",
      "Current frame: 59, phi: 79.51932654680117, psi: -92.48363388278794\n",
      "Current frame: 60, phi: 73.71257719304542, psi: -79.30511669890305\n",
      "Current frame: 61, phi: 81.84472188367216, psi: -71.90028088809608\n",
      "Current frame: 62, phi: 75.81396245933418, psi: -65.27211271248505\n",
      "Current frame: 63, phi: 68.85607391918641, psi: -63.07534916412245\n",
      "Current frame: 64, phi: 83.24260477884492, psi: -81.85771458848768\n",
      "Current frame: 65, phi: 82.6069487526743, psi: -67.94380470209333\n",
      "Current frame: 66, phi: 82.47213679277914, psi: -73.60301525688261\n",
      "Current frame: 67, phi: 63.29596466917588, psi: -63.846792744961306\n",
      "Current frame: 68, phi: 85.64824355347027, psi: -77.73895074742028\n",
      "Current frame: 69, phi: 72.54461530676596, psi: -72.997525583642\n",
      "Current frame: 70, phi: 68.99798973010448, psi: -61.82588704203177\n",
      "Current frame: 71, phi: 72.9815029157195, psi: -70.86022345962708\n",
      "Current frame: 72, phi: 65.52354787944938, psi: -77.25344705512742\n",
      "Current frame: 73, phi: 65.39613028830212, psi: -61.34239340282852\n",
      "Current frame: 74, phi: 75.38653970194414, psi: -72.22385590187453\n",
      "Current frame: 75, phi: 67.69706642235637, psi: -62.15347705634295\n",
      "Current frame: 76, phi: 83.91371710255795, psi: -63.86298333770696\n",
      "Current frame: 77, phi: 70.67998379436492, psi: -50.630480354526384\n",
      "Current frame: 78, phi: 67.10689808739632, psi: -83.9732579828824\n",
      "Current frame: 79, phi: 71.30989576388895, psi: -86.78826384680663\n",
      "Current frame: 80, phi: 66.54896646644984, psi: -47.21614693537871\n",
      "Current frame: 81, phi: 56.09059352055709, psi: -72.60273384009005\n",
      "Current frame: 82, phi: 71.12409407007291, psi: -76.1411079914736\n",
      "Current frame: 83, phi: 61.40432165908758, psi: -69.87541983211432\n",
      "Current frame: 84, phi: 70.77268145122213, psi: -60.53165065001338\n",
      "Current frame: 85, phi: 75.12740791038902, psi: -71.03561637028193\n",
      "Current frame: 86, phi: 70.19337301056308, psi: -58.48994833617432\n",
      "Current frame: 87, phi: 66.47373737406966, psi: -49.3677790440432\n",
      "Current frame: 88, phi: 69.35423346728527, psi: -52.865332733046785\n",
      "Current frame: 89, phi: 72.56107716338997, psi: -86.37354749937799\n",
      "Current frame: 90, phi: 86.1634818359047, psi: -98.62088891709921\n",
      "Current frame: 91, phi: 69.05432734803163, psi: -87.02354746223389\n",
      "Current frame: 92, phi: 69.25890239709565, psi: -76.52264736502757\n",
      "Current frame: 93, phi: 63.19205865033309, psi: -65.47799906881924\n",
      "Current frame: 94, phi: 66.86876435537731, psi: -68.16182927583736\n",
      "Current frame: 95, phi: 66.49642022291096, psi: -68.334398919132\n",
      "Current frame: 96, phi: 62.33988897199707, psi: -69.04424100570787\n",
      "Current frame: 97, phi: 66.50534787327624, psi: -76.31495799758893\n",
      "Current frame: 98, phi: 65.11984740347918, psi: -70.16694121794839\n",
      "Current frame: 99, phi: 70.30270868264809, psi: -65.38690167553187\n",
      "Current frame: 100, phi: 69.78318029848897, psi: -67.22709752662796\n",
      "Current frame: 101, phi: 72.0644646235128, psi: -64.72009266423883\n",
      "Current frame: 102, phi: 66.15800243808442, psi: -71.62114421275156\n",
      "Current frame: 103, phi: 72.60252846644214, psi: -77.69915127375005\n",
      "Current frame: 104, phi: 74.65839121869088, psi: -85.0235525022344\n",
      "Current frame: 105, phi: 81.3104693676667, psi: -98.65479195689805\n",
      "Current frame: 106, phi: 61.15022226783146, psi: -70.31585672534153\n",
      "Current frame: 107, phi: 79.2852201077994, psi: -51.94589777316099\n",
      "Current frame: 108, phi: 65.9748287438898, psi: -90.78540331149996\n",
      "Current frame: 109, phi: 59.49965522657751, psi: -86.45674911120297\n",
      "Current frame: 110, phi: 82.21151971070222, psi: -106.44927419979672\n",
      "Current frame: 111, phi: 83.80493318555136, psi: -114.45196347967753\n",
      "Current frame: 112, phi: 68.0434074171752, psi: -85.26293352741413\n",
      "Current frame: 113, phi: 69.12107549144162, psi: -77.8941591469425\n",
      "Current frame: 114, phi: 76.47942501920787, psi: -82.34901844234284\n",
      "Current frame: 115, phi: 52.3041553635313, psi: -61.92516976031634\n",
      "Current frame: 116, phi: 76.2313497849509, psi: -75.76226122292063\n",
      "Current frame: 117, phi: 64.90698208185862, psi: -69.35879366326765\n",
      "Current frame: 118, phi: 72.3595541384998, psi: -46.91267698418444\n",
      "Current frame: 119, phi: 75.88911777582716, psi: -43.08540612654468\n",
      "Current frame: 120, phi: 79.37060909374887, psi: -111.73840130013612\n",
      "Current frame: 121, phi: 62.750657868494415, psi: -96.12534355555898\n",
      "Current frame: 122, phi: 74.3608474431902, psi: -108.83258302501062\n",
      "Current frame: 123, phi: 37.82067089820082, psi: -77.92387475825652\n",
      "Current frame: 124, phi: 49.470585153286294, psi: -94.74453839446072\n",
      "Current frame: 125, phi: 77.84227376974998, psi: -70.37724635678228\n",
      "Current frame: 126, phi: 78.506576212323, psi: -74.48276485966251\n",
      "Current frame: 127, phi: 81.13212577699439, psi: -77.67452929053513\n",
      "Current frame: 128, phi: 78.86847321151544, psi: -74.92133092546165\n",
      "Current frame: 129, phi: 85.78737003484919, psi: -79.60932183051474\n",
      "Current frame: 130, phi: 59.58657930525796, psi: -54.45979667374472\n",
      "Current frame: 131, phi: 74.21395161741896, psi: -74.39544588104997\n",
      "Current frame: 132, phi: 77.78607114327066, psi: -74.43849570618714\n",
      "Current frame: 133, phi: 71.08888988439571, psi: -73.46973187414423\n",
      "Current frame: 134, phi: 63.584996500738065, psi: -75.46293095191032\n",
      "Current frame: 135, phi: 57.603205151867115, psi: -56.16413014808789\n",
      "Current frame: 136, phi: 57.640682109149054, psi: -61.63947372699222\n",
      "Current frame: 137, phi: 76.36423433017521, psi: -74.94113963402327\n",
      "Current frame: 138, phi: 57.11187102312615, psi: -65.87513969038572\n",
      "Current frame: 139, phi: 78.47133772635831, psi: -70.89879949986094\n",
      "Current frame: 140, phi: 75.46923419598338, psi: -72.78741520145344\n",
      "Current frame: 141, phi: 58.16746530188972, psi: -62.23066461065305\n",
      "Current frame: 142, phi: 77.23210540292872, psi: -49.80967718028199\n",
      "Current frame: 143, phi: 81.38628580475581, psi: -56.71850965178091\n",
      "Current frame: 144, phi: 71.92149097187315, psi: -51.65421083225059\n",
      "Current frame: 145, phi: 50.670429506855825, psi: -105.47318128005382\n",
      "Current frame: 146, phi: 77.04182770855166, psi: -65.37888482967256\n",
      "Current frame: 147, phi: 70.19338236118116, psi: -55.45420552319405\n",
      "Current frame: 148, phi: 71.51360588652038, psi: -70.80901317936767\n",
      "Current frame: 149, phi: 77.4490426988769, psi: -69.21370779594419\n",
      "Current frame: 150, phi: 69.07213130617754, psi: -45.194090213432425\n",
      "Current frame: 151, phi: 71.43865543196841, psi: -77.14725072180316\n",
      "Current frame: 152, phi: 62.26439198658519, psi: -102.67191506010658\n",
      "Current frame: 153, phi: 68.3749740906363, psi: -97.81753455938579\n",
      "Current frame: 154, phi: 65.47469079694254, psi: -100.23831595598915\n",
      "Current frame: 155, phi: 83.14484097308251, psi: -81.89106930865945\n",
      "Current frame: 156, phi: 82.18074927205095, psi: -96.37215347372083\n",
      "Current frame: 157, phi: 65.997130820949, psi: -62.28496280439179\n",
      "Current frame: 158, phi: 63.91671216323517, psi: -49.43177878907498\n",
      "Current frame: 159, phi: 67.64687991997204, psi: -60.02400407165475\n",
      "Current frame: 160, phi: 68.25191273672448, psi: -59.668802664936955\n",
      "Current frame: 161, phi: 77.12050894835616, psi: -60.73163177025495\n",
      "Current frame: 162, phi: 63.804132844868185, psi: -67.02489880262331\n",
      "Current frame: 163, phi: 83.60494624661112, psi: -68.63528862937373\n",
      "Current frame: 164, phi: 77.16796809341821, psi: -78.85712323810978\n",
      "Current frame: 165, phi: 73.8116289469918, psi: -71.1018363047076\n",
      "Current frame: 166, phi: 58.22993574360643, psi: -76.30825207212777\n",
      "Current frame: 167, phi: 70.47685306265878, psi: -46.74307385883771\n",
      "Current frame: 168, phi: 64.084207240536, psi: -52.64009060770462\n",
      "Current frame: 169, phi: 87.67852609420372, psi: -49.61987324222489\n",
      "Current frame: 170, phi: 59.93239883796291, psi: -45.57309287021405\n",
      "Current frame: 171, phi: 61.61874998516111, psi: -78.1806601107308\n",
      "Current frame: 172, phi: 76.84578620085423, psi: -82.76732945296986\n",
      "Current frame: 173, phi: 81.71584920053985, psi: -48.70521514091233\n",
      "Current frame: 174, phi: 79.27485381348099, psi: -68.1299575139749\n",
      "Current frame: 175, phi: 42.28635114341324, psi: -45.50721845171787\n",
      "Current frame: 176, phi: 76.50054954002627, psi: -75.32391363713509\n",
      "Current frame: 177, phi: 69.96957169078011, psi: -94.02573818795794\n",
      "Current frame: 178, phi: 47.7847607603877, psi: -87.05093046539058\n",
      "Current frame: 179, phi: 62.20911246048999, psi: -76.47313273953296\n",
      "Current frame: 180, phi: 73.86994628520262, psi: -58.9475726990075\n",
      "Current frame: 181, phi: 79.06498233585536, psi: -45.91569504688192\n",
      "Current frame: 182, phi: 84.04933831355577, psi: -64.74899614940948\n",
      "Current frame: 183, phi: 59.46210004878939, psi: -55.583814247970004\n",
      "Current frame: 184, phi: 65.14924079984492, psi: -58.510074360865005\n",
      "Current frame: 185, phi: 74.30144944968345, psi: -65.88498555479799\n",
      "Current frame: 186, phi: 73.09856162127765, psi: -76.15623336778138\n",
      "Current frame: 187, phi: 72.54620073929448, psi: -85.37851845447736\n",
      "Current frame: 188, phi: 85.210356241675, psi: -97.06236223349687\n",
      "Current frame: 189, phi: 56.49858843176847, psi: -75.8510314029098\n",
      "Current frame: 190, phi: 72.89893547754819, psi: -65.82007010242147\n",
      "Current frame: 191, phi: 68.16810901045662, psi: -79.69989787356425\n",
      "Current frame: 192, phi: 68.70965674993295, psi: -63.60399338452666\n",
      "Current frame: 193, phi: 75.0584963969171, psi: -74.4955803885524\n",
      "Current frame: 194, phi: 68.00989769256377, psi: -62.31926214760769\n",
      "Current frame: 195, phi: 77.77039239539492, psi: -78.90208441956506\n",
      "Current frame: 196, phi: 67.11922451983204, psi: -89.73591238303209\n",
      "Current frame: 197, phi: 74.15396658232719, psi: -64.08929210540879\n",
      "Current frame: 198, phi: 46.1108489992244, psi: -65.51391460513004\n",
      "Current frame: 199, phi: 60.94885338594551, psi: -80.77274212471947\n",
      "Current frame: 200, phi: 64.189902221255, psi: -99.39079237522402\n",
      "Current frame: 201, phi: 55.89453776574913, psi: -95.56392268020122\n",
      "Current frame: 202, phi: 57.478728983569354, psi: -68.01492561099538\n",
      "Current frame: 203, phi: 76.66961412066357, psi: -88.96096581565158\n",
      "Current frame: 204, phi: 82.03821755081819, psi: -77.2499769783214\n",
      "Current frame: 205, phi: 66.97017618140184, psi: -117.88145863619464\n",
      "Current frame: 206, phi: 38.39907644578122, psi: -88.88483289515703\n",
      "Current frame: 207, phi: 56.8608781662382, psi: -78.38639339478244\n",
      "Current frame: 208, phi: 75.62385004010395, psi: -90.29307555879747\n",
      "Current frame: 209, phi: 73.37218682410919, psi: -73.34830266486925\n",
      "Current frame: 210, phi: 72.16075019273804, psi: -72.5213461059872\n",
      "Current frame: 211, phi: 76.58732831044989, psi: -61.45270337971955\n",
      "Current frame: 212, phi: 77.66559013180826, psi: -72.72309882038049\n",
      "Current frame: 213, phi: 72.78276637158334, psi: -70.91223505493356\n",
      "Current frame: 214, phi: 71.6582095483819, psi: -58.29221023081624\n",
      "Current frame: 215, phi: 83.6105630822913, psi: -46.30120349380489\n",
      "Current frame: 216, phi: 64.5874610782564, psi: -55.98823671977228\n",
      "Current frame: 217, phi: 79.9770461994307, psi: -72.28349449894392\n",
      "Current frame: 218, phi: 77.56180798534375, psi: -57.40538182497105\n",
      "Current frame: 219, phi: 68.31920551265745, psi: -88.9834336816454\n",
      "Current frame: 220, phi: 75.94520826936574, psi: -59.21500240710088\n",
      "Current frame: 221, phi: 55.26256728528503, psi: -65.0652263189035\n",
      "Current frame: 222, phi: 80.24226412883402, psi: -69.56800140795443\n",
      "Current frame: 223, phi: 73.34079122286171, psi: -57.96460247641497\n",
      "Current frame: 224, phi: 78.97285818070246, psi: -44.27747692959936\n",
      "Current frame: 225, phi: 72.61294357217092, psi: -38.97225330713016\n",
      "Current frame: 226, phi: 67.73710800725647, psi: -38.44211240569281\n",
      "Current frame: 227, phi: 86.44120550836111, psi: -69.4433018182307\n",
      "Current frame: 228, phi: 62.34489453128254, psi: -50.227441026609874\n",
      "Current frame: 229, phi: 77.18610757662671, psi: -65.85010387000237\n",
      "Current frame: 230, phi: 76.40783090769644, psi: -76.11143311724733\n",
      "Current frame: 231, phi: 71.79656366326279, psi: -82.22983948625065\n",
      "Current frame: 232, phi: 61.7016599151361, psi: -59.24892349021085\n",
      "Current frame: 233, phi: 73.55961774503288, psi: -64.06568957589373\n",
      "Current frame: 234, phi: 66.57143717789819, psi: -74.7684193713143\n",
      "Current frame: 235, phi: 76.9032039573695, psi: -71.84104777774944\n",
      "Current frame: 236, phi: 66.63763884207629, psi: -72.17070424740172\n",
      "Current frame: 237, phi: 85.90775385312493, psi: -77.16832830234974\n",
      "Current frame: 238, phi: 59.88919354042598, psi: -63.21135039263946\n",
      "Current frame: 239, phi: 81.42312206963781, psi: -63.76943440600329\n",
      "Current frame: 240, phi: 72.08470956872111, psi: -74.54898687005561\n",
      "Current frame: 241, phi: 66.80495084268762, psi: -77.82798005015827\n",
      "Current frame: 242, phi: 72.95082647447596, psi: -52.94643798754999\n",
      "Current frame: 243, phi: 65.9970657652567, psi: -63.65505892093683\n",
      "Current frame: 244, phi: 84.06059623850648, psi: -63.525547676158325\n",
      "Current frame: 245, phi: 68.64333111769695, psi: -63.967092197242586\n",
      "Current frame: 246, phi: 68.4441142457176, psi: -79.97360045323548\n",
      "Current frame: 247, phi: 68.28170139333996, psi: -86.68996651993116\n",
      "Current frame: 248, phi: 60.5845197133831, psi: -68.57626161040326\n",
      "Current frame: 249, phi: 65.27448532655634, psi: -67.63772021933029\n",
      "Current frame: 250, phi: 91.39275738301117, psi: -63.63323387947825\n"
     ]
    }
   ],
   "source": [
    "# Exercise 11.1.3: Print the frame number and at least one of the dihedrals.\n",
    "# First create the phi and psi selections\n",
    "phi_dihedral = ala_trajectory.select_atoms('name CLP NL CA CRP').dihedral\n",
    "psi_dihedral = ala_trajectory.select_atoms('name NR CRP CA NL').dihedral\n",
    "\n",
    "# We then loop over the the trajectory\n",
    "for ts in ala_trajectory.trajectory:\n",
    "    phi = phi_dihedral.value()\n",
    "    psi = psi_dihedral.value()\n",
    "    print(f\"Current frame: {ts.frame}, phi: {phi}, psi: {psi}\")"
   ]
  },
  {
   "cell_type": "markdown",
   "metadata": {},
   "source": [
    "\n",
    "Now that you can access both the frame number and the phi and psi dihedrals, it's time to plot them.\n",
    "\n",
    "First, we will need to import a plotting library. In this case we import pyplot from matplotlib.\n",
    "\n",
    "We then create three empty lists (`frames`, `all_phi`, and `all_psi`) to hold our trajectory data.\n",
    "\n",
    "Then we fill each of those lists with the relevant values."
   ]
  },
  {
   "cell_type": "code",
   "execution_count": 30,
   "metadata": {},
   "outputs": [
    {
     "data": {
      "image/png": "[encoded data removed]",
      "text/plain": [
       "<Figure size 432x288 with 1 Axes>"
      ]
     },
     "metadata": {
      "needs_background": "light"
     },
     "output_type": "display_data"
    }
   ],
   "source": [
    "# We declare matplotlib inline to make sure it plots properly\n",
    "%matplotlib inline\n",
    "# We need pyplot from matplotlib to plot the dihedrals\n",
    "from matplotlib import pyplot\n",
    "\n",
    "# Create three empty lists\n",
    "frames = []\n",
    "all_phi = []\n",
    "all_psi = []\n",
    "\n",
    "# iterate through the trajectory\n",
    "for frame in ala_trajectory.trajectory:\n",
    "    # calculate phi and psi\n",
    "    phi = ala_trajectory.select_atoms('name CLP or name NL or name CA or name CRP').dihedral.value()\n",
    "    psi = ala_trajectory.select_atoms('name NR or name CRP or name CA or name NL').dihedral.value()\n",
    "    # append frame number, phi, and psi to the lists\n",
    "    frames.append(frame.frame)\n",
    "    all_phi.append(phi)\n",
    "    all_psi.append(psi)\n",
    "\n",
    "# We then plot our data\n",
    "pyplot.plot(frames, all_psi)\n",
    "pyplot.plot(frames, all_phi)\n",
    "pyplot.show()"
   ]
  },
  {
   "cell_type": "markdown",
   "metadata": {},
   "source": [
    "As shown above, you can use the matplotlib.pyplot module to plot `x` and `y` values in the following manner:\n",
    "\n",
    "```python\n",
    "pyplot.plot(x_value, y_value)\n",
    "```\n",
    "\n",
    "We then use `pyplot.show()` to make the plot appear.\n",
    "\n",
    "**Note:** You can adjust your matplotlib pyplot plot using various different options such as; `pyplot.title()`, `pyplot.xlim()`, `pyplot.ylim()`, `pyplot.xlabel()`, and `pyplot.ylabel()`.\n",
    "\n",
    "For example, `pyplot.title()` will add a title.\n",
    "\n",
    "Check the `help()` of these functions for more details!"
   ]
  },
  {
   "cell_type": "markdown",
   "metadata": {
    "collapsed": true
   },
   "source": [
    "## 11.2 Analysing a protein simulation"
   ]
  },
  {
   "cell_type": "markdown",
   "metadata": {},
   "source": [
    "In day 1 of this workshop you did some molecular dynamics simulations of a HIV-1 protease protein using gromacs.\n",
    "Let's now look at how you could use MDAnalysis, and an associated python visulisation library NGLview, to analyse the trajectory you generated."
   ]
  },
  {
   "cell_type": "markdown",
   "metadata": {},
   "source": [
    "### Visualising the trajectory using nglview"
   ]
  },
  {
   "cell_type": "markdown",
   "metadata": {},
   "source": [
    "The nglview library is a python widget for visualising simulation trajectories, achieving a similar task to the VMD program that you will have used on day 1. One of the interesting advantages of nglview is that it interfaces directly with analysis packages such as MDAnalysis and runs within jupyter notebooks.\n",
    "\n",
    "Let's see how we can use nglview to visualise an MDAnalysis universe object.\n",
    "\n",
    "First we need to create a universe (let's call it `protein`) from the simulation output files \"pre_md.pdb\" and \"md_cent.xtc\" (which are present in the `datafiles` directory, hence will be passed to Universe as `./datafiles/pre_md.pdb` and `./datafiles/md_cent.xtc`).\n",
    "\n",
    "_Note 1: We have pre-aligned the trajectory to the first frame for you so as to remove any motions related to translation._\n",
    "\n",
    "_Note 2: When loading the trajectory you will get a warning that MDAnalysis needs to reload offsets, this is normal in this scenario._"
   ]
  },
  {
   "cell_type": "code",
   "execution_count": 31,
   "metadata": {},
   "outputs": [],
   "source": [
    "# Exercise 11.2.1: Let's load a universe named protein\n",
    "protein = Universe('./datafiles/pre_md.pdb', './datafiles/md_cent.xtc')"
   ]
  },
  {
   "cell_type": "markdown",
   "metadata": {},
   "source": [
    "Next let's load nglview and use it's show_mdanalysis function to load the MDAnalysis universe"
   ]
  },
  {
   "cell_type": "code",
   "execution_count": 32,
   "metadata": {},
   "outputs": [],
   "source": [
    "import nglview\n",
    "protein_view = nglview.show_mdanalysis(protein)"
   ]
  },
  {
   "cell_type": "markdown",
   "metadata": {},
   "source": [
    "By default this pre-sets the nglviewer to show the protein in the cartoon representation. Let's add a few options to colour the protein by secondary structure, show water oxygens and change the background colour"
   ]
  },
  {
   "cell_type": "code",
   "execution_count": 33,
   "metadata": {},
   "outputs": [
    {
     "data": {
      "application/vnd.jupyter.widget-view+json": {
       "model_id": "7b5f240ac4564bdbaab4c220b66192b5",
       "version_major": 2,
       "version_minor": 0
      },
      "text/plain": [
       "NGLWidget(background='black', max_frame=100)"
      ]
     },
     "metadata": {},
     "output_type": "display_data"
    }
   ],
   "source": [
    "# Let's update the cartoon representation to colour the protein by secondary structure\n",
    "protein_view.update_cartoon(color='sstruc')\n",
    "\n",
    "# We then add a transparent hyperball representation of the water oxygens \n",
    "#(play with the opacity value, see what you get)\n",
    "protein_view.add_hyperball('SOL and not hydrogen', opacity=0.4)\n",
    "\n",
    "# Let's change the display a little bit\n",
    "protein_view.parameters = dict(camera_type='orthographic', clip_dist=0)\n",
    "\n",
    "# Set the background colour to black\n",
    "protein_view.background = 'black'\n",
    "\n",
    "# Call protein_view to visualise the trajectory\n",
    "protein_view"
   ]
  },
  {
   "cell_type": "markdown",
   "metadata": {
    "collapsed": true
   },
   "source": [
    "The nglview output can be controlled in the following way:\n",
    "\n",
    "- play / pause button: play the trajectory \n",
    "- double click window: enter or exit full screen mode \n",
    "- left mouse button: rotate system \n",
    "- middle mouse wheel: zoom in/out \n",
    "- right mouse button: translate system \n"
   ]
  },
  {
   "cell_type": "markdown",
   "metadata": {},
   "source": [
    "As you can be seen from the trajectory, the HIV-1 protease structure does indeed move, but by how much? In the next section we will see how we can use MDAnalysis to quantify backbone fluctuations."
   ]
  },
  {
   "cell_type": "markdown",
   "metadata": {},
   "source": [
    "### Calculating the root-mean-square deviation"
   ]
  },
  {
   "cell_type": "markdown",
   "metadata": {},
   "source": [
    "In order to gain a quantitative description of how the HIV-1 protease moves in our simulation we can calculate the root-mean-square deviation (RMSD) of the protein backbone.\n",
    "\n",
    "The RMSD gives us an idea of how 'stable' our protein is when compared to our starting, static, structure. The lower the RMSD is the, more stable we can say our protein is. \n",
    "\n",
    "The RMSD as a function of time, $\\rho (t)$, can be defined by the following equation:\n",
    "\n",
    "\\begin{equation}\n",
    "\\\\\n",
    "\\rho (t) = \\sqrt{\\frac{1}{N}\\sum^N_{i=1}w_i\\big(\\mathbf{x}_i(t) - \\mathbf{x}^{\\text{ref}}_i\\big)^2}\n",
    "\\end{equation}\n",
    "\n",
    "Luckily MDAnalysis has its own built-in function to calcualte this, we can import it like we did before."
   ]
  },
  {
   "cell_type": "code",
   "execution_count": 13,
   "metadata": {},
   "outputs": [],
   "source": [
    "from MDAnalysis.analysis.rms import RMSD as rmsd"
   ]
  },
  {
   "cell_type": "markdown",
   "metadata": {},
   "source": [
    "In order to calculate the RMSD for every frame in our trajectory we will need:\n",
    "\n",
    "- A reference structure\n",
    "- A universe object\n",
    "- A selection of atoms\n",
    "\n",
    "In our case the reference structure will be the HIV-1 protease structure in the first frame.\n",
    "\n",
    "Our universe object will be the 'protein' object we defined above.\n",
    "\n",
    "For our selection we will use the backbone atoms."
   ]
  },
  {
   "cell_type": "code",
   "execution_count": 14,
   "metadata": {},
   "outputs": [
    {
     "name": "stderr",
     "output_type": "stream",
     "text": [
      "/home/mjkikaz2/anaconda3/envs/OxCompBio/lib/python3.8/site-packages/MDAnalysis/topology/PDBParser.py:330: UserWarning: Element information is absent or missing for a few atoms. Elements attributes will not be populated.\n",
      "  warnings.warn(\"Element information is absent or missing for a few \"\n"
     ]
    },
    {
     "data": {
      "text/plain": [
       "< Timestep 0 with unit cell dimensions [70. 70. 70. 90. 90. 90.] >"
      ]
     },
     "execution_count": 14,
     "metadata": {},
     "output_type": "execute_result"
    }
   ],
   "source": [
    "ref = Universe('datafiles/pre_md.pdb', 'datafiles/md_cent.xtc')\n",
    "\n",
    "# Set the ref trajectory to the first frame\n",
    "ref.trajectory[0]"
   ]
  },
  {
   "cell_type": "markdown",
   "metadata": {},
   "source": [
    "Due to the way that GROMACS post processes the trajectory file we need to edit it slightly before running our RMSD.\n",
    "\n",
    "This is done by aligning all frames to the reference structure. "
   ]
  },
  {
   "cell_type": "code",
   "execution_count": 15,
   "metadata": {},
   "outputs": [
    {
     "data": {
      "application/vnd.jupyter.widget-view+json": {
       "model_id": "70591127df33478b996579db19a30dff",
       "version_major": 2,
       "version_minor": 0
      },
      "text/plain": [
       "HBox(children=(HTML(value=''), FloatProgress(value=0.0, max=101.0), HTML(value='')))"
      ]
     },
     "metadata": {},
     "output_type": "display_data"
    },
    {
     "name": "stdout",
     "output_type": "stream",
     "text": [
      "\n"
     ]
    }
   ],
   "source": [
    "from MDAnalysis.analysis import align\n",
    "\n",
    "# Create the MD simulation universe\n",
    "protein = Universe('datafiles/pre_md.pdb', 'datafiles/md_cent.xtc')\n",
    "# Call the MDAnalysis align function to align the MD simulation unvierse to the reference (first frame) universe\n",
    "align_strucs = align.AlignTraj(protein, ref, select=\"backbone\", weights=\"mass\", in_memory=True, verbose=True)\n",
    "\n",
    "R = align_strucs.run()"
   ]
  },
  {
   "cell_type": "markdown",
   "metadata": {},
   "source": [
    "You will have noticed that running this function stores it in the variable 'R', we can now access the RMSD values:"
   ]
  },
  {
   "cell_type": "code",
   "execution_count": 16,
   "metadata": {},
   "outputs": [],
   "source": [
    "rmsd_data = R.rmsd"
   ]
  },
  {
   "cell_type": "markdown",
   "metadata": {},
   "source": [
    "Really, we'd like to visualise how the RMSD changes over time and this can be done in the same way you did in Excercise 11.1.5.\n",
    "\n",
    "Take a look at the 'rmsd_data' variable (it's a numpy array) and try plotting it below.\n",
    "\n",
    "You will need to access 'rmsd_data' (a numpy array) in order to plot both the time and the RMSD as a line plot.\n"
   ]
  },
  {
   "cell_type": "code",
   "execution_count": 17,
   "metadata": {},
   "outputs": [
    {
     "data": {
      "image/png": "[encoded data removed]",
      "text/plain": [
       "<Figure size 432x288 with 1 Axes>"
      ]
     },
     "metadata": {
      "needs_background": "light"
     },
     "output_type": "display_data"
    }
   ],
   "source": [
    "# Excercise 11.2.2: Plot the RMSD data for the HIV-1 protease system. \n",
    "\n",
    "# Make sure to add appropriate axis titles.\n",
    "# What does the RMSD tell you about the protein?\n",
    "# [If you have time] What happens when you calculate the RMSD using more atoms (i.e. not just the backbone)\n",
    "pyplot.plot(rmsd_data)\n",
    "pyplot.title(\"RMSD over time\")\n",
    "pyplot.xlabel(\"Frame number\")\n",
    "pyplot.ylabel(\"RMSD (Angstroms)\")\n",
    "pyplot.show()"
   ]
  },
  {
   "cell_type": "markdown",
   "metadata": {},
   "source": [
    "### Calculating the root-mean-square fluctuation"
   ]
  },
  {
   "cell_type": "markdown",
   "metadata": {},
   "source": [
    "To look at how each residue flucuates over it's average postion we can use the closely related measurement of root-mean-square fluctuation (RMSF).\n",
    "\n",
    "The RMSF for an atom, $\\rho_i$, is given by:\n",
    "\n",
    "\\begin{equation}\n",
    "\\rho_i = \\sqrt{\\sum^N_{i=1} \\big\\langle(\\mathbf{x}_i - \\langle \\mathbf{x}_i \\rangle )^2 \\big\\rangle }\n",
    "\\end{equation}"
   ]
  },
  {
   "cell_type": "code",
   "execution_count": 18,
   "metadata": {},
   "outputs": [],
   "source": [
    "from MDAnalysis.analysis.rms import RMSF as rmsf"
   ]
  },
  {
   "cell_type": "code",
   "execution_count": 19,
   "metadata": {},
   "outputs": [
    {
     "data": {
      "application/vnd.jupyter.widget-view+json": {
       "model_id": "37cc317effd3476682a54ed1c9d17190",
       "version_major": 2,
       "version_minor": 0
      },
      "text/plain": [
       "HBox(children=(HTML(value=''), FloatProgress(value=0.0, max=101.0), HTML(value='')))"
      ]
     },
     "metadata": {},
     "output_type": "display_data"
    },
    {
     "name": "stdout",
     "output_type": "stream",
     "text": [
      "\n"
     ]
    }
   ],
   "source": [
    "# Reset the trajectory to the first frame\n",
    "protein.trajectory[0]\n",
    "\n",
    "# We will need to select the alpha Carbons only\n",
    "calphas = protein.select_atoms(\"name CA\")\n",
    "rmsf_calc = rmsf(calphas, verbose=True).run()"
   ]
  },
  {
   "cell_type": "code",
   "execution_count": 20,
   "metadata": {},
   "outputs": [
    {
     "data": {
      "image/png": "[encoded data removed]",
      "text/plain": [
       "<Figure size 432x288 with 1 Axes>"
      ]
     },
     "metadata": {
      "needs_background": "light"
     },
     "output_type": "display_data"
    }
   ],
   "source": [
    "# Excercise 11.2.3: Plot the RMSF data for the HIV-1 protease system. \n",
    "    # Tip, in order to plot the resids you will need to access them through the rmsf_calc object\n",
    "\n",
    "# Make sure to add appropriate axis titles.\n",
    "# What parts of the protein have a high RMSF, can you locate these on the protein structure?\n",
    "# [If you have time] What happens when you calculate the RMSF using more atoms (i.e. not just the backbone)\n",
    "pyplot.plot(calphas.resids, rmsf_calc.rmsf)\n",
    "pyplot.title(\"Per-Residue Alpha Carbon RMSF\")\n",
    "pyplot.xlabel(\"Residue Number\")\n",
    "pyplot.ylabel(\"RMSF (Angstrom)\")\n",
    "pyplot.show()"
   ]
  }
 ],
 "metadata": {
  "kernelspec": {
   "display_name": "Python 3",
   "language": "python",
   "name": "python3"
  },
  "language_info": {
   "codemirror_mode": {
    "name": "ipython",
    "version": 3
   },
   "file_extension": ".py",
   "mimetype": "text/x-python",
   "name": "python",
   "nbconvert_exporter": "python",
   "pygments_lexer": "ipython3",
   "version": "3.8.6"
  }
 },
 "nbformat": 4,
 "nbformat_minor": 1
}
